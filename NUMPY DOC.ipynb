{
 "cells": [
  {
   "cell_type": "raw",
   "metadata": {},
   "source": [
    "Index\n",
    "\n",
    "- Basic to create array (tip copy array if you want modifications resulting in separate array)\n",
    "- Reshape, Resize, flatten, attributes, transpose(ith becomes jth)/ arr.swapaxes\n",
    "- basic operations are element wise \n",
    "- e.g. of dot and *\n",
    "- max/min element\n",
    "- axis = 0 ; row wise  | axis = 1 ; column wise\n",
    "- indexing/slicing. X[row start:row end, col start:col end] \n",
    "(tip ndim array arr[dim1 start:end, dim2 start:end, dim3 start:end, ..]\n",
    "(tip you can also pass as a list the specific indexes you want X[[list]]\n",
    "- sum / vstack, hstack\n",
    "- boolean slicing / making a mask/ setting all values to 0\n",
    "- transpose/ slicing/ meshgrid\n",
    "- conditional logic as array op (np.where)/ test membership np.in1d"
   ]
  },
  {
   "cell_type": "raw",
   "metadata": {},
   "source": [
    "Universal Functions\n",
    "- np.sqrt/ np.exp\n",
    "- "
   ]
  },
  {
   "cell_type": "code",
   "execution_count": 22,
   "metadata": {},
   "outputs": [],
   "source": [
    "import numpy as np\n",
    "import random\n"
   ]
  },
  {
   "cell_type": "code",
   "execution_count": 6,
   "metadata": {},
   "outputs": [],
   "source": [
    "np.array(object)\n",
    "np.arange(start, stop, step, dtpye)\n",
    "np.ones(shape, dtype), np.ones_like(a, dtype)\n",
    "np.zeros(shape, dtype), np.zeros_like(a, dtype)\n",
    "np.empty(shape, dtype), np.empty_like(a, dtype)\n",
    "np.eye(shape, dtype), np.identity()\n",
    "np.eye(N, M=None, k=0, dtype=<class 'float'>, order='C')"
   ]
  },
  {
   "cell_type": "code",
   "execution_count": 15,
   "metadata": {},
   "outputs": [],
   "source": [
    "a.reszie(new_shape)#fills with zero\n",
    "np.reshape(a, newshape)\n",
    "a.flatten()#all in 1 D"
   ]
  },
  {
   "cell_type": "code",
   "execution_count": 59,
   "metadata": {},
   "outputs": [
    {
     "name": "stdout",
     "output_type": "stream",
     "text": [
      "[[3]\n",
      " [4]\n",
      " [5]]\n",
      "[[3 4 5]]\n",
      "[3 4 5]\n",
      "\n",
      "\n",
      "[[ 6  7  8]\n",
      " [ 7  8  9]\n",
      " [ 8  9 10]]\n",
      "(3, 3)\n",
      "9\n",
      "2\n"
     ]
    }
   ],
   "source": [
    "v = np.array([3,4,5])\n",
    "v2 = v.reshape((1,3))\n",
    "v1 = v.reshape((3,1))\n",
    "print(v1)\n",
    "print(v2)\n",
    "v3 = v1+v2\n",
    "print(v1.flatten())\n",
    "print(\"\\n\")\n",
    "print(v3)\n",
    "print(v3.shape)\n",
    "print(v3.size)\n",
    "print(v3.ndim)"
   ]
  },
  {
   "cell_type": "code",
   "execution_count": 47,
   "metadata": {},
   "outputs": [
    {
     "data": {
      "text/plain": [
       "array([[50]])"
      ]
     },
     "execution_count": 47,
     "metadata": {},
     "output_type": "execute_result"
    }
   ],
   "source": [
    "np.dot(v2,v2.T)"
   ]
  },
  {
   "cell_type": "code",
   "execution_count": 51,
   "metadata": {},
   "outputs": [
    {
     "data": {
      "text/plain": [
       "array([[ 9, 12, 15],\n",
       "       [12, 16, 20],\n",
       "       [15, 20, 25]])"
      ]
     },
     "execution_count": 51,
     "metadata": {},
     "output_type": "execute_result"
    }
   ],
   "source": [
    "np.dot(v1,v2)"
   ]
  },
  {
   "cell_type": "code",
   "execution_count": 52,
   "metadata": {},
   "outputs": [
    {
     "data": {
      "text/plain": [
       "array([[50]])"
      ]
     },
     "execution_count": 52,
     "metadata": {},
     "output_type": "execute_result"
    }
   ],
   "source": [
    "np.dot(v2,v1)"
   ]
  },
  {
   "cell_type": "code",
   "execution_count": 56,
   "metadata": {},
   "outputs": [
    {
     "data": {
      "text/plain": [
       "array([[ 9, 16, 25]])"
      ]
     },
     "execution_count": 56,
     "metadata": {},
     "output_type": "execute_result"
    }
   ],
   "source": [
    "v2*v2"
   ]
  },
  {
   "cell_type": "code",
   "execution_count": 100,
   "metadata": {},
   "outputs": [
    {
     "name": "stdout",
     "output_type": "stream",
     "text": [
      "[[1 2]\n",
      " [3 4]]\n",
      "4\n",
      "[3 4]\n",
      "[2 4]\n",
      "1\n",
      "[1 2]\n",
      "[1 3]\n"
     ]
    }
   ],
   "source": [
    "X = np.array([[1,2], [3,4]])\n",
    "print(X)\n",
    "print(X.max())\n",
    "print(X.max(axis=0))\n",
    "#axis 0 means rows \n",
    "print(X.max(axis=1))\n",
    "# axis 1 means columns\n",
    "print(X.min())\n",
    "print(X.min(axis=0))\n",
    "#axis 0 means rows \n",
    "print(X.min(axis=1))"
   ]
  },
  {
   "cell_type": "code",
   "execution_count": 68,
   "metadata": {},
   "outputs": [],
   "source": [
    "np.amax(a, axis)\n",
    "#the maximum of an array or maximum along an axis.\n",
    "np.amin(a, axis)\n",
    "#    The minimum value of an array along a given axis, propagating any NaNs.\n",
    "np.nanmax(a,axis)/np,nanmin(a,axis)\n",
    "#    The maximum value of an array along a given axis, ignoring any NaNs.\n",
    "np.maximum(x1, x2)/np.minimum(x1,x2)\n",
    "#Compare two arrays and returns a new array containing the element-wise maxima. \n",
    "#    Element-wise maximum of two arrays, propagating any NaNs.\n",
    "np.fmax(x1, x2)/np.fmin(x1, x2)\n",
    "#    Element-wise maximum of two arrays, ignoring any NaNs.\n",
    "np.argmax(a, axis)/np.armin(a, axis)\n",
    "# by default as flattened array and then given, give axis\n",
    "#    Return the indices of the maximum values."
   ]
  },
  {
   "cell_type": "code",
   "execution_count": 107,
   "metadata": {},
   "outputs": [
    {
     "name": "stdout",
     "output_type": "stream",
     "text": [
      "[1 1]\n",
      "3\n"
     ]
    }
   ],
   "source": [
    "print(np.argmax(X, axis = 0))\n",
    "print(np.argmax(X))"
   ]
  },
  {
   "cell_type": "code",
   "execution_count": 128,
   "metadata": {},
   "outputs": [],
   "source": [
    "np.sum(a, axis)"
   ]
  },
  {
   "cell_type": "code",
   "execution_count": 129,
   "metadata": {},
   "outputs": [],
   "source": [
    "np.vstack((A,B,...))\n",
    "# stack vertically row wise (add to 1st axis)\n",
    "np.hstack((A,B,...))\n",
    "#stack horizontally column wise (add to 2nd axis)"
   ]
  },
  {
   "cell_type": "code",
   "execution_count": 26,
   "metadata": {},
   "outputs": [],
   "source": [
    "names = np.array(['Bob', 'Joe', 'Will', 'Bob', 'Will', 'Joe', 'Joe'])\n",
    "data = np.random.randn(7, 4)"
   ]
  },
  {
   "cell_type": "code",
   "execution_count": 27,
   "metadata": {},
   "outputs": [
    {
     "data": {
      "text/plain": [
       "array([[ 0.82948914,  1.1325516 ,  0.49056716, -0.28980968],\n",
       "       [-0.04239722, -0.88763705,  0.65949578, -0.53639369],\n",
       "       [ 1.61900766, -0.17075502,  0.83551484,  1.18885606],\n",
       "       [ 0.07028291,  0.35593792, -0.07016843, -0.50222344],\n",
       "       [ 0.2501551 ,  0.04824011,  0.28153285, -0.04376196],\n",
       "       [ 0.55500659,  0.23913112, -0.93996978, -0.28147114],\n",
       "       [-1.47492834,  1.54994524,  0.28835287,  0.40422767]])"
      ]
     },
     "execution_count": 27,
     "metadata": {},
     "output_type": "execute_result"
    }
   ],
   "source": [
    "data"
   ]
  },
  {
   "cell_type": "code",
   "execution_count": 30,
   "metadata": {},
   "outputs": [
    {
     "data": {
      "text/plain": [
       "array([[ 0.82948914,  1.1325516 ,  0.49056716, -0.28980968],\n",
       "       [ 0.07028291,  0.35593792, -0.07016843, -0.50222344]])"
      ]
     },
     "execution_count": 30,
     "metadata": {},
     "output_type": "execute_result"
    }
   ],
   "source": [
    "data[names == 'Bob']\n",
    "#whatever index names == 'Bob' returns true e.g. 0 and 7 that is selected from data"
   ]
  },
  {
   "cell_type": "code",
   "execution_count": 46,
   "metadata": {},
   "outputs": [
    {
     "data": {
      "text/plain": [
       "array([[ 0.82948914,  1.1325516 ,  0.49056716, -0.28980968],\n",
       "       [ 1.61900766, -0.17075502,  0.83551484,  1.18885606],\n",
       "       [ 0.07028291,  0.35593792, -0.07016843, -0.50222344],\n",
       "       [ 0.2501551 ,  0.04824011,  0.28153285, -0.04376196]])"
      ]
     },
     "execution_count": 46,
     "metadata": {},
     "output_type": "execute_result"
    }
   ],
   "source": [
    "mask = (names == 'Bob') | (names == \"Will\")\n",
    "data[mask]"
   ]
  },
  {
   "cell_type": "code",
   "execution_count": 49,
   "metadata": {},
   "outputs": [
    {
     "data": {
      "text/plain": [
       "array([[0.82948914, 1.1325516 , 0.49056716, 0.        ],\n",
       "       [0.        , 0.        , 0.65949578, 0.        ],\n",
       "       [1.61900766, 0.        , 0.83551484, 1.18885606],\n",
       "       [0.07028291, 0.35593792, 0.        , 0.        ],\n",
       "       [0.2501551 , 0.04824011, 0.28153285, 0.        ],\n",
       "       [0.55500659, 0.23913112, 0.        , 0.        ],\n",
       "       [0.        , 1.54994524, 0.28835287, 0.40422767]])"
      ]
     },
     "execution_count": 49,
     "metadata": {},
     "output_type": "execute_result"
    }
   ],
   "source": [
    "data[data<0] = 0\n",
    "data"
   ]
  },
  {
   "cell_type": "code",
   "execution_count": 50,
   "metadata": {},
   "outputs": [],
   "source": [
    "data[names!='Joe']=7"
   ]
  },
  {
   "cell_type": "code",
   "execution_count": 51,
   "metadata": {},
   "outputs": [
    {
     "data": {
      "text/plain": [
       "array([[7.        , 7.        , 7.        , 7.        ],\n",
       "       [0.        , 0.        , 0.65949578, 0.        ],\n",
       "       [7.        , 7.        , 7.        , 7.        ],\n",
       "       [7.        , 7.        , 7.        , 7.        ],\n",
       "       [7.        , 7.        , 7.        , 7.        ],\n",
       "       [0.55500659, 0.23913112, 0.        , 0.        ],\n",
       "       [0.        , 1.54994524, 0.28835287, 0.40422767]])"
      ]
     },
     "execution_count": 51,
     "metadata": {},
     "output_type": "execute_result"
    }
   ],
   "source": [
    "data"
   ]
  },
  {
   "cell_type": "code",
   "execution_count": 55,
   "metadata": {},
   "outputs": [],
   "source": [
    "arr = np.empty((8,4))"
   ]
  },
  {
   "cell_type": "code",
   "execution_count": 57,
   "metadata": {},
   "outputs": [],
   "source": [
    "for i in range(len(arr)):\n",
    "    arr[i] = i"
   ]
  },
  {
   "cell_type": "code",
   "execution_count": 69,
   "metadata": {},
   "outputs": [],
   "source": [
    "arr = np.arange(32).reshape((8,4))"
   ]
  },
  {
   "cell_type": "code",
   "execution_count": 70,
   "metadata": {},
   "outputs": [
    {
     "data": {
      "text/plain": [
       "array([ 4, 23, 29, 10])"
      ]
     },
     "execution_count": 70,
     "metadata": {},
     "output_type": "execute_result"
    }
   ],
   "source": [
    "arr[[1,5,7,2],[0,3,1,2]]\n",
    "#elements (1,0), (5,3), (7,1) and (2,2) were selected"
   ]
  },
  {
   "cell_type": "code",
   "execution_count": 75,
   "metadata": {},
   "outputs": [
    {
     "data": {
      "text/plain": [
       "array([[ 4,  7,  5,  6],\n",
       "       [20, 23, 21, 22],\n",
       "       [28, 31, 29, 30],\n",
       "       [ 8, 11,  9, 10]])"
      ]
     },
     "execution_count": 75,
     "metadata": {},
     "output_type": "execute_result"
    }
   ],
   "source": [
    "arr[[1,5,7,2]][:,[0,3,1,2]]\n",
    "#or \n",
    "arr[np.ix_([1,5,7,2],[0,3,1,2])]"
   ]
  },
  {
   "cell_type": "code",
   "execution_count": 77,
   "metadata": {},
   "outputs": [],
   "source": [
    "arr = np.arange(16).reshape((2,2,4))"
   ]
  },
  {
   "cell_type": "code",
   "execution_count": 78,
   "metadata": {},
   "outputs": [
    {
     "data": {
      "text/plain": [
       "array([[[ 0,  1,  2,  3],\n",
       "        [ 4,  5,  6,  7]],\n",
       "\n",
       "       [[ 8,  9, 10, 11],\n",
       "        [12, 13, 14, 15]]])"
      ]
     },
     "execution_count": 78,
     "metadata": {},
     "output_type": "execute_result"
    }
   ],
   "source": [
    "arr"
   ]
  },
  {
   "cell_type": "code",
   "execution_count": 82,
   "metadata": {},
   "outputs": [
    {
     "data": {
      "text/plain": [
       "array([[[ 0,  1,  2,  3],\n",
       "        [ 8,  9, 10, 11]],\n",
       "\n",
       "       [[ 4,  5,  6,  7],\n",
       "        [12, 13, 14, 15]]])"
      ]
     },
     "execution_count": 82,
     "metadata": {},
     "output_type": "execute_result"
    }
   ],
   "source": [
    "arr.transpose((1,0,2))"
   ]
  },
  {
   "cell_type": "code",
   "execution_count": 84,
   "metadata": {},
   "outputs": [],
   "source": [
    "points = np.arange(-5,5,1)\n",
    "\n",
    "xs,ys = np.meshgrid(points, points)"
   ]
  },
  {
   "cell_type": "code",
   "execution_count": 92,
   "metadata": {},
   "outputs": [
    {
     "data": {
      "text/plain": [
       "array([[-10,  -9,  -8,  -7,  -6,  -5,  -4,  -3,  -2,  -1],\n",
       "       [ -9,  -8,  -7,  -6,  -5,  -4,  -3,  -2,  -1,   0],\n",
       "       [ -8,  -7,  -6,  -5,  -4,  -3,  -2,  -1,   0,   1],\n",
       "       [ -7,  -6,  -5,  -4,  -3,  -2,  -1,   0,   1,   2],\n",
       "       [ -6,  -5,  -4,  -3,  -2,  -1,   0,   1,   2,   3],\n",
       "       [ -5,  -4,  -3,  -2,  -1,   0,   1,   2,   3,   4],\n",
       "       [ -4,  -3,  -2,  -1,   0,   1,   2,   3,   4,   5],\n",
       "       [ -3,  -2,  -1,   0,   1,   2,   3,   4,   5,   6],\n",
       "       [ -2,  -1,   0,   1,   2,   3,   4,   5,   6,   7],\n",
       "       [ -1,   0,   1,   2,   3,   4,   5,   6,   7,   8]])"
      ]
     },
     "execution_count": 92,
     "metadata": {},
     "output_type": "execute_result"
    }
   ],
   "source": [
    "xs+ys"
   ]
  },
  {
   "cell_type": "code",
   "execution_count": 88,
   "metadata": {},
   "outputs": [],
   "source": [
    "import matplotlib.pyplot as plt"
   ]
  },
  {
   "cell_type": "code",
   "execution_count": 93,
   "metadata": {},
   "outputs": [],
   "source": [
    "z = np.sqrt(xs**2 + ys**2)"
   ]
  },
  {
   "cell_type": "code",
   "execution_count": 94,
   "metadata": {},
   "outputs": [
    {
     "data": {
      "text/plain": [
       "array([[7.07106781, 6.40312424, 5.83095189, 5.38516481, 5.09901951,\n",
       "        5.        , 5.09901951, 5.38516481, 5.83095189, 6.40312424],\n",
       "       [6.40312424, 5.65685425, 5.        , 4.47213595, 4.12310563,\n",
       "        4.        , 4.12310563, 4.47213595, 5.        , 5.65685425],\n",
       "       [5.83095189, 5.        , 4.24264069, 3.60555128, 3.16227766,\n",
       "        3.        , 3.16227766, 3.60555128, 4.24264069, 5.        ],\n",
       "       [5.38516481, 4.47213595, 3.60555128, 2.82842712, 2.23606798,\n",
       "        2.        , 2.23606798, 2.82842712, 3.60555128, 4.47213595],\n",
       "       [5.09901951, 4.12310563, 3.16227766, 2.23606798, 1.41421356,\n",
       "        1.        , 1.41421356, 2.23606798, 3.16227766, 4.12310563],\n",
       "       [5.        , 4.        , 3.        , 2.        , 1.        ,\n",
       "        0.        , 1.        , 2.        , 3.        , 4.        ],\n",
       "       [5.09901951, 4.12310563, 3.16227766, 2.23606798, 1.41421356,\n",
       "        1.        , 1.41421356, 2.23606798, 3.16227766, 4.12310563],\n",
       "       [5.38516481, 4.47213595, 3.60555128, 2.82842712, 2.23606798,\n",
       "        2.        , 2.23606798, 2.82842712, 3.60555128, 4.47213595],\n",
       "       [5.83095189, 5.        , 4.24264069, 3.60555128, 3.16227766,\n",
       "        3.        , 3.16227766, 3.60555128, 4.24264069, 5.        ],\n",
       "       [6.40312424, 5.65685425, 5.        , 4.47213595, 4.12310563,\n",
       "        4.        , 4.12310563, 4.47213595, 5.        , 5.65685425]])"
      ]
     },
     "execution_count": 94,
     "metadata": {},
     "output_type": "execute_result"
    }
   ],
   "source": [
    "z"
   ]
  },
  {
   "cell_type": "code",
   "execution_count": 95,
   "metadata": {},
   "outputs": [
    {
     "data": {
      "text/plain": [
       "<matplotlib.colorbar.Colorbar at 0x11b166400>"
      ]
     },
     "execution_count": 95,
     "metadata": {},
     "output_type": "execute_result"
    },
    {
     "data": {
      "image/png": "[encoded data removed]",
      "text/plain": [
       "<Figure size 432x288 with 2 Axes>"
      ]
     },
     "metadata": {
      "needs_background": "light"
     },
     "output_type": "display_data"
    }
   ],
   "source": [
    "plt.imshow(z, cmap=plt.cm.gray); plt.colorbar()"
   ]
  },
  {
   "cell_type": "code",
   "execution_count": 99,
   "metadata": {},
   "outputs": [
    {
     "data": {
      "text/plain": [
       "[1.1, 2.2, 1.3, 1.4, 2.5]"
      ]
     },
     "execution_count": 99,
     "metadata": {},
     "output_type": "execute_result"
    }
   ],
   "source": [
    "xarr = np.array([1.1, 1.2, 1.3, 1.4, 1.5])\n",
    "yarr = np.array([2.1, 2.2, 2.3, 2.4, 2.5])\n",
    "cond = np.array([True, False, True, True, False])\n",
    "\n",
    "res = [(x if c else y) for x, y, c in zip(xarr, yarr, cond)]\n",
    "\n",
    "res\n",
    "\n",
    "#this has multiple problems slow and can not be used on multi-dimensional array\n",
    "#so use np.where"
   ]
  },
  {
   "cell_type": "code",
   "execution_count": 106,
   "metadata": {},
   "outputs": [
    {
     "data": {
      "text/plain": [
       "array([1.1, 2.2, 1.3, 1.4, 2.5])"
      ]
     },
     "execution_count": 106,
     "metadata": {},
     "output_type": "execute_result"
    }
   ],
   "source": [
    "res = np.where(cond,xarr,yarr)\n",
    "res"
   ]
  },
  {
   "cell_type": "code",
   "execution_count": 109,
   "metadata": {},
   "outputs": [
    {
     "data": {
      "text/plain": [
       "array([[-0.65226758, -1.62823005, -0.95767037, -1.28930721],\n",
       "       [-1.74361405,  0.31369344,  0.16836858, -0.75293205],\n",
       "       [-0.15201668, -1.91700892, -1.69325713,  0.61319617],\n",
       "       [-0.20029158, -0.20647335, -0.14593736, -0.88146894]])"
      ]
     },
     "execution_count": 109,
     "metadata": {},
     "output_type": "execute_result"
    }
   ],
   "source": [
    "arr = np.random.randn(4,4)\n",
    "arr\n"
   ]
  },
  {
   "cell_type": "code",
   "execution_count": 110,
   "metadata": {},
   "outputs": [
    {
     "data": {
      "text/plain": [
       "array([[-2, -2, -2, -2],\n",
       "       [-2,  2,  2, -2],\n",
       "       [-2, -2, -2,  2],\n",
       "       [-2, -2, -2, -2]])"
      ]
     },
     "execution_count": 110,
     "metadata": {},
     "output_type": "execute_result"
    }
   ],
   "source": [
    "np.where(arr>0 , 2,-2)"
   ]
  },
  {
   "cell_type": "code",
   "execution_count": 111,
   "metadata": {},
   "outputs": [
    {
     "data": {
      "text/plain": [
       "array([[-0.65226758, -1.62823005, -0.95767037, -1.28930721],\n",
       "       [-1.74361405,  2.        ,  2.        , -0.75293205],\n",
       "       [-0.15201668, -1.91700892, -1.69325713,  2.        ],\n",
       "       [-0.20029158, -0.20647335, -0.14593736, -0.88146894]])"
      ]
     },
     "execution_count": 111,
     "metadata": {},
     "output_type": "execute_result"
    }
   ],
   "source": [
    "np.where(arr>0 , 2,arr)"
   ]
  },
  {
   "cell_type": "code",
   "execution_count": null,
   "metadata": {},
   "outputs": [],
   "source": [
    "np.where(cond1 & cond2, 0, np.where(cond1, 1,np.where(cond2, 2, 3)))"
   ]
  },
  {
   "cell_type": "code",
   "execution_count": 116,
   "metadata": {},
   "outputs": [],
   "source": [
    "np.random.randint(low, high,size=None)\n",
    "np.random.randn(shape)"
   ]
  },
  {
   "cell_type": "code",
   "execution_count": 124,
   "metadata": {},
   "outputs": [
    {
     "name": "stdout",
     "output_type": "stream",
     "text": [
      "55\n",
      "[False False False  True False False  True  True False False  True False\n",
      "  True False False  True False  True  True False  True False  True False\n",
      "  True False  True False False False  True  True  True False False False\n",
      " False  True  True False  True  True False  True False  True False  True\n",
      " False False  True  True False  True  True  True False False  True  True\n",
      "  True  True False  True False  True  True False  True  True False  True\n",
      "  True  True  True  True  True  True False False False  True  True  True\n",
      "  True False False False  True  True  True  True False  True  True False\n",
      "  True  True False False]\n"
     ]
    }
   ],
   "source": [
    "arr = np.random.randn(100)\n",
    "\n",
    "print((arr>0).sum())\n",
    "\n",
    "print(arr>0)"
   ]
  },
  {
   "cell_type": "code",
   "execution_count": 122,
   "metadata": {},
   "outputs": [
    {
     "name": "stdout",
     "output_type": "stream",
     "text": [
      "True\n",
      "False\n"
     ]
    }
   ],
   "source": [
    "bools = np.array([True,False,False,True])\n",
    "print(bools.any())\n",
    "print(bools.all())"
   ]
  },
  {
   "cell_type": "code",
   "execution_count": 126,
   "metadata": {},
   "outputs": [
    {
     "name": "stdout",
     "output_type": "stream",
     "text": [
      "['Bob' 'Joe' 'Will' 'Bob' 'Will' 'Joe' 'Joe']\n"
     ]
    },
    {
     "data": {
      "text/plain": [
       "array(['Bob', 'Joe', 'Will'], dtype='<U4')"
      ]
     },
     "execution_count": 126,
     "metadata": {},
     "output_type": "execute_result"
    }
   ],
   "source": [
    "print(names)\n",
    "np.unique(names)"
   ]
  },
  {
   "cell_type": "code",
   "execution_count": 128,
   "metadata": {},
   "outputs": [
    {
     "data": {
      "text/plain": [
       "array([ True,  True,  True, False, False, False, False,  True, False])"
      ]
     },
     "execution_count": 128,
     "metadata": {},
     "output_type": "execute_result"
    }
   ],
   "source": [
    "values = np.array([0,6,3,1,2,5,7,3,4])\n",
    "arr = [0,3,6]\n",
    "np.in1d(values,arr)"
   ]
  },
  {
   "cell_type": "raw",
   "metadata": {},
   "source": [
    "Method\n",
    "unique(x): Compute the sorted, unique elements in x\n",
    "\n",
    "intersect1d(x, y): Compute the sorted, common elements in x and y\n",
    "\n",
    "union1d(x, y): Compute the sorted union of elements\n",
    "\n",
    "in1d(x, y): Compute a boolean array indicating whether each element of x is contained in y Set difference, elements in x that are not in y\n",
    "\n",
    "setdiff1d(x, y): Set difference, elements in x that are not in y\n",
    "\n",
    "setxor1d(x, y): Set symmetric differences; elements that are in either of the arrays, but not both"
   ]
  }
 ],
 "metadata": {
  "kernelspec": {
   "display_name": "Python 3",
   "language": "python",
   "name": "python3"
  },
  "language_info": {
   "codemirror_mode": {
    "name": "ipython",
    "version": 3
   },
   "file_extension": ".py",
   "mimetype": "text/x-python",
   "name": "python",
   "nbconvert_exporter": "python",
   "pygments_lexer": "ipython3",
   "version": "3.7.1"
  }
 },
 "nbformat": 4,
 "nbformat_minor": 2
}
